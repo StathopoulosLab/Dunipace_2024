{
 "cells": [
  {
   "cell_type": "code",
   "execution_count": 1,
   "id": "85c738f0",
   "metadata": {},
   "outputs": [],
   "source": [
    "import numpy as np\n",
    "import pandas as pd\n",
    "import numba"
   ]
  },
  {
   "cell_type": "code",
   "execution_count": 2,
   "id": "f26a0ee5",
   "metadata": {},
   "outputs": [],
   "source": [
    "@numba.jit(nopython=True)\n",
    "def draw_bs_sample(data):\n",
    "    \"\"\"\n",
    "    Draw a bootstrap sample from a 1D data set.\n",
    "    \"\"\"\n",
    "    return np.random.choice(data, size=len(data))\n",
    "\n",
    "@numba.jit(nopython=True)\n",
    "def draw_bs_reps_diff_mean(x, y, size=10000):\n",
    "    \"\"\"\n",
    "    Generate bootstrap replicates with difference of means\n",
    "    as the test statistic.\n",
    "    \"\"\"\n",
    "    out = np.empty(size)\n",
    "    for i in range(size):\n",
    "        out[i] = np.mean(draw_bs_sample(x)) - np.mean(draw_bs_sample(y))\n",
    "    return out"
   ]
  },
  {
   "cell_type": "code",
   "execution_count": 3,
   "id": "9452273d",
   "metadata": {},
   "outputs": [],
   "source": [
    "file_name = '/Volumes/James McGehee Mac/Documents/Stathopoulos_Lab/Leslie_sna_paper/viability_counts.xlsx'\n",
    "\n",
    "df_25 = pd.read_excel(file_name, 0)"
   ]
  },
  {
   "cell_type": "code",
   "execution_count": 4,
   "id": "284ad788",
   "metadata": {},
   "outputs": [
    {
     "name": "stdout",
     "output_type": "stream",
     "text": [
      "For YW the p-value = 1.00000e+00\n",
      "For delprox1.3 the p-value = 3.00000e-07\n",
      "For del3.0 the p-value = 0.00000e+00\n",
      "For del4.4 the p-value = 0.00000e+00\n",
      "For del2.6 dl l_h the p-value = 3.65100e-04\n",
      "For deldist0.4 the p-value = 3.00000e-07\n",
      "For del1.8 the p-value = 0.00000e+00\n",
      "For del dist 2kb the p-value = 0.00000e+00\n",
      "For del2.6 the p-value = 6.04860e-03\n",
      "For delprox1.3_del dist 2kb the p-value = 0.00000e+00\n"
     ]
    }
   ],
   "source": [
    "genotypes_25 = df_25['genotype'].unique()\n",
    "\n",
    "total_yw_25 = sum(df_25.loc[df_25['genotype'] == genotypes_25[0], 'total'])\n",
    "hatched_yw_25 = sum(df_25.loc[df_25['genotype'] == genotypes_25[0], 'hatched'])\n",
    "    \n",
    "data_yw_25 = np.zeros([total_yw_25])\n",
    "data_yw_25[0:hatched_yw_25] = 1\n",
    "\n",
    "p_val_25 = np.zeros([len(genotypes_25)])\n",
    "\n",
    "for i in range(len(genotypes_25)):\n",
    "    total_25 = sum(df_25.loc[df_25['genotype'] == genotypes_25[i], 'total'])\n",
    "    hatched_25 = sum(df_25.loc[df_25['genotype'] == genotypes_25[i], 'hatched'])\n",
    "    \n",
    "    data_25 = np.zeros([total_25])\n",
    "    data_25[0:hatched_25] = 1\n",
    "    \n",
    "    # Compute test statistic for original data set\n",
    "    diff_mean_25 = np.mean(data_yw_25) - np.mean(data_25)\n",
    "\n",
    "    # Shift data sets\n",
    "    total_mean_25 = np.mean(np.concatenate((data_yw_25, data_25)))\n",
    "    data_yw_25_shift = data_yw_25 - np.mean(data_yw_25) + total_mean_25\n",
    "    data_25_shift = data_25 - np.mean(data_25) + total_mean_25\n",
    "\n",
    "    # Generate samples (10 million again)\n",
    "    bs_reps_25 = draw_bs_reps_diff_mean(data_yw_25_shift, data_25_shift, size=10000000)\n",
    "\n",
    "    # Compute p-value\n",
    "    p_val_25[i] = np.sum(np.abs(bs_reps_25) >= np.abs(diff_mean_25)) / len(bs_reps_25)\n",
    "    \n",
    "    print('For {0} the p-value = {1:.5e}'.format(genotypes_25[i], p_val_25[i]))"
   ]
  },
  {
   "cell_type": "code",
   "execution_count": null,
   "id": "71b87809-bca1-418d-9bcd-deda8738856b",
   "metadata": {},
   "outputs": [],
   "source": []
  }
 ],
 "metadata": {
  "kernelspec": {
   "display_name": "Python 3 (ipykernel)",
   "language": "python",
   "name": "python3"
  },
  "language_info": {
   "codemirror_mode": {
    "name": "ipython",
    "version": 3
   },
   "file_extension": ".py",
   "mimetype": "text/x-python",
   "name": "python",
   "nbconvert_exporter": "python",
   "pygments_lexer": "ipython3",
   "version": "3.12.2"
  }
 },
 "nbformat": 4,
 "nbformat_minor": 5
}
