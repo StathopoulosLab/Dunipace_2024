{
 "cells": [
  {
   "cell_type": "markdown",
   "id": "4faa0694-6ad7-4ba7-b4ba-d41dfd4b76da",
   "metadata": {},
   "source": [
    "\\begin{align*}\n",
    "\\tag{1} \\frac{\\mathrm{d} m}{\\mathrm{d} t} &= c\\beta \\left(\\frac{K^{n}}{m^{n} + K^{n}}\\right)-\\gamma m\\\\[2mm]\n",
    "\\tag{2} \\frac{\\mathrm{d} m}{\\mathrm{d} t} &= c\\beta \\left(\\frac{1}{\\left(\\frac{m}{K}\\right)^{n} + 1}\\right)-\\gamma m\\\\[2mm]\n",
    "\\end{align*}"
   ]
  },
  {
   "cell_type": "markdown",
   "id": "82f44bc2-ff91-492f-b12d-7ac0d42113fd",
   "metadata": {},
   "source": [
    "\\begin{align*}\n",
    "\\tag{3} \\frac{\\mathrm{d} m}{\\mathrm{d} t} &= c\\beta \\left(1-\\theta(m-K)\\right)-\\gamma m\\\\[2mm]\n",
    "\\tag{4} 0 &= c\\beta \\left(1-\\theta(m-K)\\right)-\\gamma m\\\\[2mm]\n",
    "\\tag{5} 0 &= \\frac{c\\beta}{\\gamma} \\left(1-\\theta(m-K)\\right)- m\\\\[2mm]\n",
    "\\end{align*}"
   ]
  },
  {
   "cell_type": "markdown",
   "id": "18ca80db-c89b-4fd4-8fa9-17bb7c8c6b60",
   "metadata": {},
   "source": [
    "\\begin{align*}\n",
    "\\tag{6} \\frac{\\mathrm{d} \\hat{m}}{\\mathrm{d} \\hat{t}} &= c \\left(\\frac{1}{\\left(\\frac{\\hat{m}}{K}\\right)^{n} + 1}\\right)-\\hat{m}\\\\[2mm]\n",
    "\\end{align*}"
   ]
  },
  {
   "cell_type": "markdown",
   "id": "76968a8c-b594-46b6-991e-ace9d0778689",
   "metadata": {},
   "source": [
    "\\begin{align*}\n",
    "\\tag{7} t_{o} &= \\frac{1}{\\gamma} \\\\[2mm]\n",
    "\\tag{8} m_{o} &= \\frac{\\beta}{\\gamma} \\\\[2mm]\n",
    "\\tag{9} \\hat{m} &= \\frac{m}{m_{o}} \\\\[2mm]\n",
    "\\tag{10} \\hat{t} &= \\frac{t}{t_{o}} \\\\[2mm]\n",
    "\\end{align*}"
   ]
  },
  {
   "cell_type": "markdown",
   "id": "a5da7a7f-b27d-48d5-b2e0-af8e0517ae75",
   "metadata": {},
   "source": [
    "\\begin{align*}\n",
    "\\tag{11} 0 &= c \\left(\\frac{1}{\\left(\\frac{\\hat{m}_{ss}}{K}\\right)^{n} + 1}\\right)-\\hat{m}_{ss}\\\\[2mm]\n",
    "\\tag{12} \\hat{m}_{ss} &= c \\left(\\frac{1}{\\left(\\frac{\\hat{m}_{ss}}{K}\\right)^{n} + 1}\\right)\\\\[2mm]\n",
    "\\tag{13} 0 &= \\left(\\frac{1}{K}\\right)^n \\hat{m}_{ss}^{(n+1)} + \\hat{m}_{ss} - c\\\\[2mm]\n",
    "\\end{align*}"
   ]
  },
  {
   "cell_type": "markdown",
   "id": "1de1e51d-3d8d-41cc-98be-a2d813931e2a",
   "metadata": {},
   "source": [
    "\\begin{align*}\n",
    "\\tag{14} r &= \\frac{\\hat{m}_1}{\\hat{m}_2} = \\frac{m_1}{m_2}\\\\[2mm]\n",
    "\\tag{15} \\frac{1}{K} &= \\left(\\frac{2-\\hat{m}_2}{\\hat{m}_2^{(n+1)}}\\right)^{1/n}\\\\[2mm]\n",
    "\\tag{16} \\hat{m}_2 &= \\frac{2r^{\\left(n+1\\right)} - 1}{r^{\\left(n+1\\right)} - r}\\\\[2mm]\n",
    "\\tag{17} \\frac{1}{K} &= \\left(\\frac{2-\\left(\\frac{2r^{\\left(n+1\\right)} - 1}{r^{\\left(n+1\\right)} - r}\\right)}{\\left(\\frac{2r^{\\left(n+1\\right)} - 1}{r^{\\left(n+1\\right)} - r}\\right)^{(n+1)}}\\right)^{1/n}\\\\[2mm]\n",
    "\\tag{18} \\frac{1}{K} &= \\left(r^{\\left(n+1\\right)} - r\\right)\\left(\\frac{1-2r}{\\left(2r^{\\left(n+1\\right)} - 1\\right)^{(n+1)}}\\right)^{1/n}\\\\[2mm]\n",
    "\\end{align*}"
   ]
  },
  {
   "cell_type": "markdown",
   "id": "a6c81056-72db-41f1-a849-be8d0f800f55",
   "metadata": {},
   "source": [
    "\\begin{align*}\n",
    "\\tag{19} {\\hat{m}_2}_m &= \\frac{2{r_m}^{\\left({n_m}+1\\right)} - 1}{{r_m}^{\\left({n_m}+1\\right)} - {r_m}}\\\\[2mm]\n",
    "\\tag{20} {\\hat{m}_2}_c &= \\frac{2{r_c}^{\\left({n_c}+1\\right)} - 1}{{r_c}^{\\left({n_c}+1\\right)} - {r_c}}\\\\[2mm]\n",
    "\\tag{21} R &= \\frac{{\\hat{m}_2}_m}{{\\hat{m}_2}_c}\\\\[2mm]\n",
    "\\tag{22} {n_m} &= \\frac{\\ln \\left(\\frac{1-R{r_m}{\\hat{m}_2}_c}{2-R{\\hat{m}_2}_c}\\right)}{\\ln \\left({r_m}\\right)} - 1\\\\[2mm]\n",
    "\\tag{23} {n_m} &= \\frac{\\ln \\left(\\frac{1-R{r_m}\\left(\\frac{2{r_c}^{\\left({n_c}+1\\right)} - 1}{{r_c}^{\\left({n_c}+1\\right)} - {r_c}}\\right)}{2-R\\left(\\frac{2{r_c}^{\\left({n_c}+1\\right)} - 1}{{r_c}^{\\left({n_c}+1\\right)} - {r_c}}\\right)}\\right)}{\\ln \\left({r_m}\\right)} - 1\\\\[2mm]\n",
    "\\end{align*}"
   ]
  },
  {
   "cell_type": "markdown",
   "id": "f6de506f-e15f-4bf3-b389-df0f137ba6bc",
   "metadata": {},
   "source": [
    "\\begin{align*}\n",
    "\\tag{24} \\frac{\\mathrm{d} m}{\\mathrm{d} t} &= c\\beta\\left(A;P\\right)-\\gamma m\\\\[2mm]\n",
    "\\tag{25} \\gamma m_{ss} &= c\\beta\\left(A_{ss};P\\right)\\\\[2mm]\n",
    "\\tag{26} m_{ss} &= \\frac{c\\beta\\left(A_{ss};P\\right)}{\\gamma}\\\\[2mm]\n",
    "\\tag{27} \\frac{m_{ss_{1}}}{m_{ss_{2}}} &= \\frac{\\beta\\left(A_{ss};P\\right){\\gamma}^{-1}}{2\\beta\\left(A_{ss};P\\right){\\gamma}^{-1}}\\\\[2mm]\n",
    "\\tag{28} \\frac{m_{ss_{1}}}{m_{ss_{2}}} &= \\frac{1}{2}\\\\[2mm]\n",
    "\\end{align*}"
   ]
  }
 ],
 "metadata": {
  "kernelspec": {
   "display_name": "Python 3 (ipykernel)",
   "language": "python",
   "name": "python3"
  },
  "language_info": {
   "codemirror_mode": {
    "name": "ipython",
    "version": 3
   },
   "file_extension": ".py",
   "mimetype": "text/x-python",
   "name": "python",
   "nbconvert_exporter": "python",
   "pygments_lexer": "ipython3",
   "version": "3.12.2"
  }
 },
 "nbformat": 4,
 "nbformat_minor": 5
}
