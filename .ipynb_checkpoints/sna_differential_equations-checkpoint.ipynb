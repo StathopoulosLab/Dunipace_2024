{
 "cells": [
  {
   "cell_type": "markdown",
   "id": "095c044f-f2f1-4946-8a17-f0016399ac46",
   "metadata": {},
   "source": [
    "\\begin{align*}\n",
    "\\tag{1} \\frac{\\mathrm{d} [sna]}{\\mathrm{d} t} &= c\\beta_{sna} \\left(\\frac{K^{n}}{[Sna]^{n} + K^{n}}\\right)-\\gamma_{sna} [sna]\\\\[2mm]\n",
    "\\tag{2} \\frac{\\mathrm{d} [Sna]}{\\mathrm{d} t} &= \\beta_{Sna} [sna] - \\gamma_{Sna} [Sna] \\\\[2mm]\n",
    "\\end{align*}"
   ]
  },
  {
   "cell_type": "markdown",
   "id": "bca2f177-41f6-44f6-8e49-4030e22bf170",
   "metadata": {},
   "source": [
    "\\begin{align*}\n",
    "\\tag{3} \\frac{\\mathrm{d} [sna]}{\\mathrm{d} t} &= c \\left(\\frac{1}{[Sna]^{n} + 1}\\right)-[sna]\\\\[2mm]\n",
    "\\tag{4} \\frac{\\mathrm{d} [Sna]}{\\mathrm{d} t} &= \\left(\\beta [sna] - [Sna]\\right)\\gamma \\\\[2mm]\n",
    "\\end{align*}"
   ]
  },
  {
   "cell_type": "markdown",
   "id": "a523e421-d588-48e0-b019-daf880318e8b",
   "metadata": {},
   "source": [
    "\\begin{align*}\n",
    "\\tag{5} \\beta &= \\frac{\\beta_{sna} \\beta_{Sna}}{K \\gamma_{sna} \\gamma_{Sna}} \\\\[2mm]\n",
    "\\tag{6} \\gamma &= \\frac{\\gamma_{Sna}}{\\gamma_{sna}} \\\\[2mm]\n",
    "\\tag{7} t_{o} &= \\frac{1}{\\gamma_{sna}} \\\\[2mm]\n",
    "\\tag{8} [sna]_{o} &= \\frac{\\beta_{sna}}{\\gamma_{sna}} \\\\[2mm]\n",
    "\\tag{9} [Sna]_{o} &= K \\\\[2mm]\n",
    "\\end{align*}"
   ]
  },
  {
   "cell_type": "markdown",
   "id": "22a3fdf0-4a88-4a40-a2eb-b99ff47eb95a",
   "metadata": {},
   "source": [
    "\\begin{align*}\n",
    "\\tag{10} [sna]_{ss} &= c \\left(\\frac{1}{[Sna]_{ss}^{n} + 1}\\right)\\\\[2mm]\n",
    "\\tag{11} [Sna]_{ss} &= \\beta [sna]_{ss} \\\\[2mm]\n",
    "\\tag{12} [sna]_{ss} &= c \\left(\\frac{1}{\\left(\\beta [sna]_{ss}\\right)^{n} + 1}\\right)\\\\[2mm]\n",
    "\\tag{13} 0 &= \\beta^n [sna]_{ss}^{(n+1)} + [sna]_{ss} - c\\\\[2mm]\n",
    "\\end{align*}"
   ]
  },
  {
   "cell_type": "markdown",
   "id": "18668b5f-6109-4ba7-a343-0ca6ccead1cc",
   "metadata": {},
   "source": [
    "\\begin{align*}\n",
    "\\tag{14} r &= \\frac{[sna]_1}{[sna]_2}\\\\[2mm]\n",
    "\\tag{15} \\beta &= \\left(\\frac{2-[sna]_2}{[sna]_2^{(n+1)}}\\right)^{1/n}\\\\[2mm]\n",
    "\\tag{16} [sna]_2 &= \\frac{2r^{\\left(n+1\\right)} - 1}{r^{\\left(n+1\\right)} - r}\\\\[2mm]\n",
    "\\end{align*}"
   ]
  },
  {
   "cell_type": "markdown",
   "id": "4cd5dcaf-70f3-434f-8504-ee0e6bb87f37",
   "metadata": {},
   "source": [
    "\\begin{align*}\n",
    "\\tag{17} {[sna]_2}_m &= \\frac{2{r_m}^{\\left({n_m}+1\\right)} - 1}{{r_m}^{\\left({n_m}+1\\right)} - {r_m}}\\\\[2mm]\n",
    "\\tag{18} {[sna]_2}_c &= \\frac{2{r_c}^{\\left({n_c}+1\\right)} - 1}{{r_c}^{\\left({n_c}+1\\right)} - {r_c}}\\\\[2mm]\n",
    "\\tag{19} R &= \\frac{{[sna]_2}_m}{{[sna]_2}_c}\\\\[2mm]\n",
    "\\tag{20} {n_m} &= \\frac{\\ln \\left(\\frac{1-R{r_m}{[sna]_2}_c}{2-R{[sna]_2}_c}\\right)}{\\ln \\left({r_m}\\right)} - 1\\\\[2mm]\n",
    "\\end{align*}"
   ]
  },
  {
   "cell_type": "markdown",
   "id": "0e2e322d",
   "metadata": {},
   "source": [
    "\\begin{align*}\n",
    "\\tag{21} \\frac{\\mathrm{d} [twi]}{\\mathrm{d} t} &= \\beta_{twi,Dl} \\left(\\frac{[Dl]^{n}}{[Dl]^{n} + K_{twi,Dl}^{n}}\\right) + \\beta_{twi,Twi} \\left(\\frac{[Twi]^{n}}{[Twi]^{n} + K_{twi,Twi}^{n}}\\right) - \\gamma_{twi} [twi] \\\\[2mm]\n",
    "\\tag{22} \\frac{\\mathrm{d} [sna]}{\\mathrm{d} t} &= c \\left(\\frac{K_{d,X}^{n}}{[X]^{n} + K_{d,X}^{n}}\\right) \\left(\\left(\\frac{K_{p1}^{n_{p}}}{[Sna]^{n_{p}} + K_{p1}^{n_{p}}}\\right) \\left(\\frac{K_{d2}^{n_{d}}}{[Sna]^{n_{d}} + K_{d2}^{n_{d}}}\\right)\\right.\\\\\n",
    "&\\left(\\beta_{p,Dl}\\left(\\frac{[Dl]^{n}}{[Dl]^{n} + K_{p,Dl}^{n}}\\right) + \\beta_{p,Twi}\n",
    "\\left(\\frac{[Twi]^{n}}{[Twi]^{n} + K_{p,Twi}^{n}}\\right)\\right)\\\\\n",
    "&+ \\left(\\frac{K_{d1}^{n_{d}}}{[Sna]^{n_{d}} + K_{d1}^{n_{d}}}\\right)\n",
    "\\left(\\frac{K_{p2}^{n_{p}}}{[Sna]^{n_{p}} + K_{p2}^{n_{p}}}\\right)\\\\\n",
    "&\\left.\\left(\\beta_{d,Twi} \\left(\\frac{[Twi]^{n}}{[Twi]^{n} + K_{d,Twi}^{n}}\\right) +\n",
    "\\beta_{d,Dl}\\left(\\frac{[Dl]^{n}}{[Dl]^{n} + K_{d,Dl}^{n}}\\right)\\right)\\right)\\\\\n",
    "&- \\gamma_{sna} [sna]\\\\[2mm]\n",
    "\\tag{23} \\frac{\\mathrm{d} [x]}{\\mathrm{d} t} &= \\beta_{x} \\left(\\frac{K_{x,Sna}^{n}}{[Sna]^{n} + K_{x,Sna}^{n}}\\right) - \\gamma_{x} [x] \\\\[2mm]\n",
    "\\tag{24} \\frac{\\mathrm{d} [Dl]}{\\mathrm{d} t} &= k_{in} \\left([Dl_{Total}] - [Dl]\\right) - k_{out} [Dl] \\\\[2mm]\n",
    "\\tag{25} \\frac{\\mathrm{d} [Twi]}{\\mathrm{d} t} &= \\beta_{Twi} [twi] - \\gamma_{Twi} [Twi] \\\\[2mm]\n",
    "\\tag{26} \\frac{\\mathrm{d} [Sna]}{\\mathrm{d} t} &= \\beta_{Sna} [sna] - \\gamma_{Sna} [Sna] \\\\[2mm]\n",
    "\\tag{27} \\frac{\\mathrm{d} [X]}{\\mathrm{d} t} &= \\beta_{X} [x] - \\gamma_{X} [X] \\\\[2mm]\n",
    "\\end{align*}"
   ]
  },
  {
   "cell_type": "markdown",
   "id": "4bb8b14a-57ff-4fb2-9668-847acfa80ae6",
   "metadata": {},
   "source": [
    "\\begin{align*}\n",
    "\\tag{28} \\frac{\\mathrm{d} [sna]}{\\mathrm{d} t} &= c \\left(\\frac{K_{d,X}^{n}}{[X]^{n} + K_{d,X}^{n}}\\right)\\left(\\beta_{p}\\left(\\frac{K_{p1}^{n_{p}}}{[Sna]^{n_{p}} + K_{p1}^{n_{p}}}\\right) \\left(\\frac{K_{d2}^{n_{d}}}{[Sna]^{n_{d}} + K_{d2}^{n_{d}}}\\right)\\right.\\\\[2mm] \n",
    "&+ \\left.\\beta_{d}\\left(\\frac{K_{d1}^{n_{d}}}{[Sna]^{n_{d}} + K_{d1}^{n_{d}}}\\right)\n",
    "\\left(\\frac{K_{p2}^{n_{p}}}{[Sna]^{n_{p}} + K_{p2}^{n_{p}}}\\right)\\right) - \\gamma_{sna} [sna] \\\\[2mm]\n",
    "\\tag{29} \\frac{\\mathrm{d} [x]}{\\mathrm{d} t} &= \\beta_{x} \\left(\\frac{K_{x,Sna}^{n}}{[Sna]^{n} + K_{x,Sna}^{n}}\\right) - \\gamma_{x} [x] \\\\[2mm]\n",
    "\\tag{30} \\frac{\\mathrm{d} [Sna]}{\\mathrm{d} t} &= \\beta_{Sna} [sna] - \\gamma_{Sna} [Sna] \\\\[2mm]\n",
    "\\tag{31} \\frac{\\mathrm{d} [X]}{\\mathrm{d} t} &= \\beta_{X} [x] - \\gamma_{X} [X] \\\\[2mm]\n",
    "\\end{align*}"
   ]
  },
  {
   "cell_type": "markdown",
   "id": "de404d92-3bde-481c-b5d1-3b7afa45534b",
   "metadata": {},
   "source": [
    "\\begin{align*}\n",
    "\\tag{??} 0 &= c \\left(\\frac{1}{{\\left(A \\left(\\frac{1}{{\\left(D[sna]\\right)}^{n} + 1}\\right)\\right)}^{n} + 1}\\right)\\left(I\\left(\\frac{1}{{\\left(E[sna]\\right)}^{n_{p}} + 1}\\right) \\left(\\frac{1}{{\\left(F[sna]\\right)}^{n_{d}} + 1}\\right)\\right.\\\\[2mm] \n",
    "&+ \\left.J\\left(\\frac{1}{{\\left(G[sna]\\right)}^{n_{d}} + 1}\\right)\n",
    "\\left(\\frac{1}{{\\left(H[sna]\\right)}^{n_{p}} + 1}\\right)\\right) - [sna] \\\\[2mm]\n",
    "\\end{align*}"
   ]
  },
  {
   "cell_type": "markdown",
   "id": "0ec421f6-810e-4a1e-8e6e-fc944d88b448",
   "metadata": {},
   "source": [
    "\\begin{align*}\n",
    "\\tag{??} A &= \\frac{\\beta_{X} \\beta_{x}}{\\gamma_{X} \\gamma_{x} K_{X}} \\\\[2mm]\n",
    "\\tag{??} D &= \\frac{\\beta_{Sna}}{\\gamma_{Sna} K_{x,Sna}} \\\\[2mm]\n",
    "\\tag{??} E &= \\frac{\\beta_{Sna}}{\\gamma_{Sna} K_{p1}} \\\\[2mm]\n",
    "\\tag{??} F &= \\frac{\\beta_{Sna}}{\\gamma_{Sna} K_{d2}} \\\\[2mm]\n",
    "\\tag{??} G &= \\frac{\\beta_{Sna}}{\\gamma_{Sna} K_{d1}} \\\\[2mm]\n",
    "\\tag{??} H &= \\frac{\\beta_{Sna}}{\\gamma_{Sna} K_{p2}} \\\\[2mm]\n",
    "\\tag{??} I &= \\frac{\\beta_{p}}{\\gamma_{sna}} \\\\[2mm]\n",
    "\\tag{??} J &= \\frac{\\beta_{d}}{\\gamma_{sna}} \\\\[2mm]\n",
    "\\end{align*}"
   ]
  },
  {
   "cell_type": "markdown",
   "id": "bf8031a8-826b-48b6-8238-df300a6039c5",
   "metadata": {},
   "source": [
    "\\begin{align*}\n",
    "\\tag{32} \\beta_{p} &= \\beta_{p,Dl}\\left(\\frac{[Dl]_{ss}^{n}}{[Dl]_{ss}^{n} + K_{p,Dl}^{n}}\\right) + \\beta_{p,Twi}\n",
    "\\left(\\frac{[Twi]_{ss}^{n}}{[Twi]_{ss}^{n} + K_{p,Twi}^{n}}\\right)\\\\[2mm]\n",
    "\\tag{33} \\beta_{d} &= \\beta_{d,Twi} \\left(\\frac{[Twi]_{ss}^{n}}{[Twi]_{ss}^{n} + K_{d,Twi}^{n}}\\right) +\n",
    "\\beta_{d,Dl}\\left(\\frac{[Dl]_{ss}^{n}}{[Dl]_{ss}^{n} + K_{d,Dl}^{n}}\\right)\\\\[2mm]\n",
    "\\end{align*}"
   ]
  },
  {
   "cell_type": "markdown",
   "id": "38183114-cdfc-43fd-a9f6-6deb2ee222c0",
   "metadata": {},
   "source": [
    "\\begin{align*}\n",
    "\\tag{34} \\frac{\\mathrm{d} [sna]}{\\mathrm{d} t} &= c \\left(\\frac{K_{d,X}^{n}}{[X]^{n} + K_{d,X}^{n}}\\right)\\left(\\beta_{p}\\left(\\frac{K_{p1}^{n_{p}}}{[Sna]^{n_{p}} + K_{p1}^{n_{p}}}\\right) + \\beta_{d}\\left(\\frac{K_{d1}^{n_{d}}}{[Sna]^{n_{d}} + K_{d1}^{n_{d}}}\\right)\\right) - \\gamma_{sna} [sna] \\\\[2mm]\n",
    "\\end{align*}"
   ]
  },
  {
   "cell_type": "markdown",
   "id": "f605b928-7914-42c2-bc55-fca994729a9d",
   "metadata": {},
   "source": [
    "\\begin{align*}\n",
    "\\tag{35} \\frac{\\mathrm{d} [sna]}{\\mathrm{d} t} &= c \\left(\\frac{K_{d,X}^{n}}{[X]^{n} + K_{d,X}^{n}}\\right)\\left(\\beta_{p}\\left(\\frac{K_{p1}^{n_{p}}}{[Sna]^{n_{p}} + K_{p1}^{n_{p}}}\\right) + \\beta_{d} \\left(\\frac{K_{p2}^{n_{p}}}{[Sna]^{n_{p}} + K_{p2}^{n_{p}}}\\right)\\right) - \\gamma_{sna} [sna] \\\\[2mm]\n",
    "\\end{align*}"
   ]
  },
  {
   "cell_type": "markdown",
   "id": "d635fef3-e828-41fe-8554-9f1faec7ed08",
   "metadata": {},
   "source": [
    "\\begin{align*}\n",
    "\\tag{36} \\frac{\\mathrm{d} [sna]}{\\mathrm{d} t} &= c\\beta_{sna}\\left([A];P\\right)-\\gamma_{sna} [sna]\\\\[2mm]\n",
    "\\tag{37} \\gamma_{sna} [sna]_{ss} &= c\\beta_{sna}\\left([A]_{ss};P\\right)\\\\[2mm]\n",
    "\\tag{38} [sna]_{ss} &= \\frac{c\\beta_{sna}\\left([A]_{ss};P\\right)}{\\gamma_{sna}}\\\\[2mm]\n",
    "\\tag{39} \\frac{[sna]_{ss_{1copy}}}{[sna]_{ss_{2copy}}} &= \\frac{\\beta_{sna}\\left([A]_{ss};P\\right){\\gamma_{sna}}^{-1}}{2\\beta_{sna}\\left([A]_{ss};P\\right){\\gamma_{sna}}^{-1}}\\\\[2mm]\n",
    "\\tag{40} \\frac{[sna]_{ss_{1copy}}}{[sna]_{ss_{2copy}}} &= \\frac{1}{2}\\\\[2mm]\n",
    "\\end{align*}"
   ]
  }
 ],
 "metadata": {
  "kernelspec": {
   "display_name": "Python 3 (ipykernel)",
   "language": "python",
   "name": "python3"
  },
  "language_info": {
   "codemirror_mode": {
    "name": "ipython",
    "version": 3
   },
   "file_extension": ".py",
   "mimetype": "text/x-python",
   "name": "python",
   "nbconvert_exporter": "python",
   "pygments_lexer": "ipython3",
   "version": "3.12.2"
  }
 },
 "nbformat": 4,
 "nbformat_minor": 5
}
